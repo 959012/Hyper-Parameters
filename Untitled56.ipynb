{
  "nbformat": 4,
  "nbformat_minor": 0,
  "metadata": {
    "colab": {
      "name": "Untitled56.ipynb",
      "provenance": [],
      "authorship_tag": "ABX9TyMt977hSET5bBTvXIJvrqB5",
      "include_colab_link": true
    },
    "kernelspec": {
      "name": "python3",
      "display_name": "Python 3"
    }
  },
  "cells": [
    {
      "cell_type": "markdown",
      "metadata": {
        "id": "view-in-github",
        "colab_type": "text"
      },
      "source": [
        "<a href=\"https://colab.research.google.com/github/959012/Hyper-Parameters/blob/master/Untitled56.ipynb\" target=\"_parent\"><img src=\"https://colab.research.google.com/assets/colab-badge.svg\" alt=\"Open In Colab\"/></a>"
      ]
    },
    {
      "cell_type": "code",
      "metadata": {
        "id": "WHd0bB7uafZl",
        "colab_type": "code",
        "colab": {
          "base_uri": "https://localhost:8080/",
          "height": 199
        },
        "outputId": "7822d6f4-c5ee-4c2e-9532-5b1f9088caff"
      },
      "source": [
        "# Grid Search for Algorithm Tuning\n",
        "import numpy as np\n",
        "from sklearn import datasets\n",
        "from sklearn.linear_model import Ridge\n",
        "from sklearn.model_selection import GridSearchCV\n",
        "dataset = datasets.load_diabetes()\n",
        "alphas = np.array([1,0.1,0.01,0.001,0.0001,0])\n",
        "model = Ridge()\n",
        "grid = GridSearchCV(estimator=model, param_grid=dict(alpha=alphas))\n",
        "grid.fit(dataset.data, dataset.target)\n",
        "print(grid)\n",
        "print(grid.best_score_)\n",
        "print(grid.best_estimator_.alpha)"
      ],
      "execution_count": 20,
      "outputs": [
        {
          "output_type": "stream",
          "text": [
            "GridSearchCV(cv=None, error_score=nan,\n",
            "             estimator=Ridge(alpha=1.0, copy_X=True, fit_intercept=True,\n",
            "                             max_iter=None, normalize=False, random_state=None,\n",
            "                             solver='auto', tol=0.001),\n",
            "             iid='deprecated', n_jobs=None,\n",
            "             param_grid={'alpha': array([1.e+00, 1.e-01, 1.e-02, 1.e-03, 1.e-04, 0.e+00])},\n",
            "             pre_dispatch='2*n_jobs', refit=True, return_train_score=False,\n",
            "             scoring=None, verbose=0)\n",
            "0.4823231384163485\n",
            "0.0001\n"
          ],
          "name": "stdout"
        }
      ]
    },
    {
      "cell_type": "code",
      "metadata": {
        "id": "BaePTMgUafrD",
        "colab_type": "code",
        "colab": {
          "base_uri": "https://localhost:8080/",
          "height": 217
        },
        "outputId": "dcaeb9df-6a53-459c-ce4f-ee85fa657539"
      },
      "source": [
        "# Randomized Search for Algorithm Tuning\n",
        "import numpy as np\n",
        "from scipy.stats import uniform as sp_rand\n",
        "from sklearn import datasets\n",
        "from sklearn.linear_model import Ridge\n",
        "from sklearn.model_selection import RandomizedSearchCV\n",
        "dataset = datasets.load_diabetes()\n",
        "param_grid = {'alpha': sp_rand()}\n",
        "model = Ridge()\n",
        "rsearch = RandomizedSearchCV(estimator=model, param_distributions=param_grid, n_iter=100)\n",
        "rsearch.fit(dataset.data, dataset.target)\n",
        "print(rsearch)\n",
        "print(rsearch.best_score_)\n",
        "print(rsearch.best_estimator_.alpha)"
      ],
      "execution_count": 21,
      "outputs": [
        {
          "output_type": "stream",
          "text": [
            "RandomizedSearchCV(cv=None, error_score=nan,\n",
            "                   estimator=Ridge(alpha=1.0, copy_X=True, fit_intercept=True,\n",
            "                                   max_iter=None, normalize=False,\n",
            "                                   random_state=None, solver='auto',\n",
            "                                   tol=0.001),\n",
            "                   iid='deprecated', n_iter=100, n_jobs=None,\n",
            "                   param_distributions={'alpha': <scipy.stats._distn_infrastructure.rv_frozen object at 0x7fc5383c9748>},\n",
            "                   pre_dispatch='2*n_jobs', random_state=None, refit=True,\n",
            "                   return_train_score=False, scoring=None, verbose=0)\n",
            "0.48220177190369534\n",
            "0.0022124807925748557\n"
          ],
          "name": "stdout"
        }
      ]
    },
    {
      "cell_type": "code",
      "metadata": {
        "id": "SOjzh0LPa8Nx",
        "colab_type": "code",
        "colab": {}
      },
      "source": [
        ""
      ],
      "execution_count": 0,
      "outputs": []
    }
  ]
}